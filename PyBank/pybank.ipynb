{
 "cells": [
  {
   "cell_type": "code",
   "execution_count": 27,
   "id": "9772b6ac",
   "metadata": {},
   "outputs": [
    {
     "name": "stdout",
     "output_type": "stream",
     "text": [
      "Financial Analysis\n",
      "-----------------------------\n",
      "Total Months: 1\n",
      "Total: $22564198\n",
      "Average Change: $-8311.105882352942\n",
      "Greatest Increase in Profits: Aug-16 ($1862002)\n",
      "Greatest Decrease in Profits: Feb-14 ($-1825558)\n",
      "\n"
     ]
    }
   ],
   "source": [
    "#importing modules\n",
    "import csv\n",
    "import os\n",
    "\n",
    "#defining file paths for files going to be used to load and output\n",
    "file_to_load = os.path.join(\".\", \"Resources\", \"budget_data.csv\")\n",
    "file_to_output = os.path.join(\".\", \"budget_analysis.txt\")\n",
    "\n",
    "#defining total months to later calculate the total number of months\n",
    "total_months = 0\n",
    "\n",
    "#defining the total net to later calculate P&L over the entire period\n",
    "total_net = 0\n",
    "\n",
    "#creating a net change list to track changes\n",
    "net_change_list = []\n",
    "month_of_changes = []\n",
    "\n",
    "#found this method to calculate greatest increase and decrease via Bing AI help\n",
    "greatest_increase = [\"\", 0]\n",
    "greatest_decrease = [\"\", 999999999999999]\n",
    "\n",
    "#reading the .csv file and converting it into a list of dictionaries\n",
    "with open(file_to_load) as financial_data:\n",
    "    reader = csv.reader(financial_data)\n",
    "    \n",
    "    #exporting data without header from the file\n",
    "    header = next(reader)\n",
    "    first_row = next(reader)\n",
    "    \n",
    "    total_net += int(first_row[1])\n",
    "    previous_net = int(first_row[1])\n",
    "    \n",
    "#calculating the total number of months in the dataset\n",
    "    total_months += 1\n",
    "    \n",
    "    for row in reader:\n",
    "    \n",
    "#calculating the P&L over the entire period\n",
    "        total_net += int(row[1])\n",
    "    \n",
    "#tracking the total & net change\n",
    "        net_change = int(row[1]) - previous_net\n",
    "        previous_net = int(row[1])\n",
    "        net_change_list.append(net_change)\n",
    "        \n",
    "#calculating the greatest increase\n",
    "        if(net_change > greatest_increase[1]):\n",
    "            greatest_increase[0] = row[0]\n",
    "            greatest_increase[1] = net_change\n",
    "            \n",
    "#calculating the greatest decrease\n",
    "        if(net_change < greatest_decrease[1]):\n",
    "            greatest_decrease[0] = row[0]\n",
    "            greatest_decrease[1] = net_change\n",
    "\n",
    "#defining the monthly average\n",
    "net_monthly_average = sum(net_change_list)/len(net_change_list)\n",
    "    \n",
    "output = (f\"Financial Analysis\\n\"\n",
    "          f\"-----------------------------\\n\"\n",
    "          f\"Total Months: {total_months}\\n\"\n",
    "          f\"Total: ${total_net}\\n\"\n",
    "          f\"Average Change: ${net_monthly_average}\\n\"\n",
    "          f\"Greatest Increase in Profits: {greatest_increase[0]} (${greatest_increase[1]})\\n\"\n",
    "          f\"Greatest Decrease in Profits: {greatest_decrease[0]} (${greatest_decrease[1]})\\n\")\n",
    "        \n",
    "print(output)\n",
    "\n",
    "with open(file_to_output, \"w\") as txt_file:\n",
    "    txt_file.write(output)"
   ]
  },
  {
   "cell_type": "code",
   "execution_count": null,
   "id": "58aa350e",
   "metadata": {},
   "outputs": [],
   "source": []
  },
  {
   "cell_type": "code",
   "execution_count": null,
   "id": "4187c178",
   "metadata": {},
   "outputs": [],
   "source": []
  },
  {
   "cell_type": "code",
   "execution_count": null,
   "id": "c433f803",
   "metadata": {},
   "outputs": [],
   "source": []
  }
 ],
 "metadata": {
  "kernelspec": {
   "display_name": "Python 3 (ipykernel)",
   "language": "python",
   "name": "python3"
  },
  "language_info": {
   "codemirror_mode": {
    "name": "ipython",
    "version": 3
   },
   "file_extension": ".py",
   "mimetype": "text/x-python",
   "name": "python",
   "nbconvert_exporter": "python",
   "pygments_lexer": "ipython3",
   "version": "3.11.5"
  }
 },
 "nbformat": 4,
 "nbformat_minor": 5
}
